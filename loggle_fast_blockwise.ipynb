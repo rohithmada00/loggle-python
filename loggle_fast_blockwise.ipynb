{
 "cells": [
  {
   "cell_type": "code",
   "execution_count": 1,
   "metadata": {},
   "outputs": [
    {
     "name": "stdout",
     "output_type": "stream",
     "text": [
      "Requirement already satisfied: numpy in c:\\users\\rohit\\anaconda3\\lib\\site-packages (1.24.3)\n",
      "Requirement already satisfied: scipy in c:\\users\\rohit\\anaconda3\\lib\\site-packages (1.10.1)\n",
      "Requirement already satisfied: networkx in c:\\users\\rohit\\anaconda3\\lib\\site-packages (3.1)\n"
     ]
    }
   ],
   "source": [
    "!pip install numpy scipy networkx"
   ]
  },
  {
   "cell_type": "markdown",
   "metadata": {},
   "source": [
    "Generating synthetic data"
   ]
  },
  {
   "cell_type": "code",
   "execution_count": 2,
   "metadata": {},
   "outputs": [],
   "source": [
    "import numpy as np\n",
    "from scipy.stats import multivariate_normal\n",
    "from scipy.linalg import eigh\n"
   ]
  },
  {
   "cell_type": "code",
   "execution_count": 4,
   "metadata": {},
   "outputs": [],
   "source": [
    "def generate_time_varying_precision(p=10, N=50, eps=1e-6, soft_lambda=0.14):\n",
    "    \"\"\"\n",
    "    Generate a list of time-varying precision matrices Omega(t),\n",
    "    following the four steps (i)-(iv) described:\n",
    "\n",
    "      (i)  B_i are lower-triangular with entries ~ N(0,1/2).\n",
    "      (ii) G(t) = ( sum_i B_i * phi_i(t) ) / 2.\n",
    "      (iii) Omega^o(t) = G(t)G(t)^T, then soft-threshold off-diagonals.\n",
    "      (iv) Add log10(p)/4 to the diagonal for positive definiteness.\n",
    "    \"\"\"\n",
    "\n",
    "    # 1. Generate lower-triangular matrices B1,B2,B3,B4\n",
    "    #    with elements from Normal(0, 1/2).\n",
    "    B_list = [np.tril(np.random.normal(0, np.sqrt(0.5), (p, p))) \n",
    "              for _ in range(4)]\n",
    "\n",
    "    # 2. Create time grid from 0 to 1\n",
    "    t_values = np.linspace(0, 1, N)\n",
    "    Omega_list = []\n",
    "\n",
    "    for t in t_values:\n",
    "        # Define phi_1(t), phi_2(t), phi_3(t), phi_4(t)\n",
    "        phi = [\n",
    "            np.sin(np.pi * t / 2),\n",
    "            np.cos(np.pi * t / 2),\n",
    "            np.sin(np.pi * t / 4),\n",
    "            np.cos(np.pi * t / 4)\n",
    "        ]\n",
    "\n",
    "        # 3. Compute G(t) = (B1*phi1 + B2*phi2 + B3*phi3 + B4*phi4) / 2\n",
    "        G = sum(B * ph for B, ph in zip(B_list, phi)) / 2\n",
    "\n",
    "        # Omega^o(t) = G(t)*G(t)^T\n",
    "        Omega_o = G @ G.T  # automatically symmetric\n",
    "\n",
    "        # 4. Soft-threshold off-diagonal elements\n",
    "        #    off_diag = sign(x) * max(|x|-lambda, 0)\n",
    "        off_diag = Omega_o - np.diag(np.diag(Omega_o))  # zero out diag\n",
    "        sign_off = np.sign(off_diag)\n",
    "        mag_off = np.abs(off_diag)\n",
    "        off_diag_thresh = sign_off * np.maximum(mag_off - soft_lambda, 0.0)\n",
    "\n",
    "        # Put thresholded off-diagonals back, keep original diagonal\n",
    "        Omega = np.diag(np.diag(Omega_o)) + off_diag_thresh\n",
    "\n",
    "        # 5. Add log10(p)/4 to the diagonal to ensure positivity\n",
    "        diag_adj = np.log10(p)/4 + eps\n",
    "        Omega += np.eye(p) * diag_adj\n",
    "\n",
    "        # 6. Double-check positive definiteness (just in case)\n",
    "        eigvals, _ = eigh(Omega)\n",
    "        if np.any(eigvals <= 0):\n",
    "            # If not PD, shift up by |min_eig| + eps\n",
    "            Omega += np.eye(p) * (abs(np.min(eigvals)) + eps)\n",
    "\n",
    "        Omega_list.append(Omega)\n",
    "\n",
    "    return Omega_list\n",
    "\n",
    "def generate_synthetic_data(p=10, N=50):\n",
    "    \"\"\"\n",
    "    Generate a time-series dataset X(t) by sampling from\n",
    "    N(0, Sigma(t)), where Sigma(t) = Omega(t)^{-1}.\n",
    "    The code returns:\n",
    "      dataset: shape (N, p)\n",
    "      Omega_list: list of precision matrices for each time grid\n",
    "    \"\"\"\n",
    "    Omega_list = generate_time_varying_precision(p, N)\n",
    "\n",
    "    dataset = np.zeros((N, p))\n",
    "    for i, Omega in enumerate(Omega_list):\n",
    "        # Invert each Omega(t) to get Sigma(t)\n",
    "        try:\n",
    "            Sigma = np.linalg.inv(Omega)\n",
    "        except np.linalg.LinAlgError:\n",
    "            Sigma = np.linalg.pinv(Omega)\n",
    "\n",
    "        # Draw a single sample from N(0, Sigma)\n",
    "        dataset[i] = multivariate_normal.rvs(\n",
    "            mean=np.zeros(p),\n",
    "            cov=Sigma,\n",
    "            size=1\n",
    "        )\n",
    "\n",
    "    # Center the entire dataset\n",
    "    dataset -= dataset.mean(axis=0)\n",
    "    return dataset, Omega_list\n"
   ]
  },
  {
   "cell_type": "markdown",
   "metadata": {},
   "source": [
    "Blockwise ADMM"
   ]
  },
  {
   "cell_type": "code",
   "execution_count": null,
   "metadata": {},
   "outputs": [],
   "source": []
  }
 ],
 "metadata": {
  "kernelspec": {
   "display_name": "base",
   "language": "python",
   "name": "python3"
  },
  "language_info": {
   "codemirror_mode": {
    "name": "ipython",
    "version": 3
   },
   "file_extension": ".py",
   "mimetype": "text/x-python",
   "name": "python",
   "nbconvert_exporter": "python",
   "pygments_lexer": "ipython3",
   "version": "3.11.5"
  }
 },
 "nbformat": 4,
 "nbformat_minor": 2
}
